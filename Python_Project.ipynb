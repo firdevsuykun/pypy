{
 "cells": [
  {
   "cell_type": "code",
   "execution_count": 141,
   "metadata": {},
   "outputs": [
    {
     "name": "stdout",
     "output_type": "stream",
     "text": [
      "                                                  Date  \\\n",
      "0                                         May 24, 2021   \n",
      "1                                         May 21, 2021   \n",
      "2                                         May 20, 2021   \n",
      "3                                         May 19, 2021   \n",
      "4                                         May 18, 2021   \n",
      "..                                                 ...   \n",
      "96                                        Jan 07, 2021   \n",
      "97                                        Jan 06, 2021   \n",
      "98                                        Jan 05, 2021   \n",
      "99                                        Jan 04, 2021   \n",
      "100  *Close price adjusted for splits.**Adjusted cl...   \n",
      "\n",
      "                                                  Open  \\\n",
      "0                                               126.01   \n",
      "1                                               127.82   \n",
      "2                                               125.23   \n",
      "3                                               123.16   \n",
      "4                                               126.56   \n",
      "..                                                 ...   \n",
      "96                                              128.36   \n",
      "97                                              127.72   \n",
      "98                                              128.89   \n",
      "99                                              133.52   \n",
      "100  *Close price adjusted for splits.**Adjusted cl...   \n",
      "\n",
      "                                                  High  \\\n",
      "0                                               127.93   \n",
      "1                                               128.00   \n",
      "2                                               127.72   \n",
      "3                                               124.92   \n",
      "4                                               126.99   \n",
      "..                                                 ...   \n",
      "96                                              131.63   \n",
      "97                                              131.05   \n",
      "98                                              131.74   \n",
      "99                                              133.61   \n",
      "100  *Close price adjusted for splits.**Adjusted cl...   \n",
      "\n",
      "                                                   Low  \\\n",
      "0                                               125.94   \n",
      "1                                               125.21   \n",
      "2                                               125.10   \n",
      "3                                               122.86   \n",
      "4                                               124.78   \n",
      "..                                                 ...   \n",
      "96                                              127.86   \n",
      "97                                              126.38   \n",
      "98                                              128.43   \n",
      "99                                              126.76   \n",
      "100  *Close price adjusted for splits.**Adjusted cl...   \n",
      "\n",
      "                                                Close*  \\\n",
      "0                                               127.55   \n",
      "1                                               125.43   \n",
      "2                                               127.31   \n",
      "3                                               124.69   \n",
      "4                                               124.85   \n",
      "..                                                 ...   \n",
      "96                                              130.92   \n",
      "97                                              126.60   \n",
      "98                                              131.01   \n",
      "99                                              129.41   \n",
      "100  *Close price adjusted for splits.**Adjusted cl...   \n",
      "\n",
      "                                           Adj Close**  \\\n",
      "0                                               127.55   \n",
      "1                                               125.43   \n",
      "2                                               127.31   \n",
      "3                                               124.69   \n",
      "4                                               124.85   \n",
      "..                                                 ...   \n",
      "96                                              130.50   \n",
      "97                                              126.20   \n",
      "98                                              130.59   \n",
      "99                                              129.00   \n",
      "100  *Close price adjusted for splits.**Adjusted cl...   \n",
      "\n",
      "                                                Volume  \n",
      "0                                             48866278  \n",
      "1                                             79209300  \n",
      "2                                             76857100  \n",
      "3                                             92612000  \n",
      "4                                             63342900  \n",
      "..                                                 ...  \n",
      "96                                           109578200  \n",
      "97                                           155088000  \n",
      "98                                            97664900  \n",
      "99                                           143301900  \n",
      "100  *Close price adjusted for splits.**Adjusted cl...  \n",
      "\n",
      "[101 rows x 7 columns]\n"
     ]
    }
   ],
   "source": [
    "import datetime as dt\n",
    "import numpy as np\n",
    "import pandas as pd\n",
    "import matplotlib.pyplot as plt\n",
    "from matplotlib import style\n",
    "style.use('ggplot')\n",
    "#data1=pd.read_html(\"https://finance.yahoo.com/quote/AAPL/history?p=AAPL\",match=\"Adj Close**\") don't find why doesn't work\n",
    "data1=pd.read_html(\"https://finance.yahoo.com/quote/AAPL/history?p=AAPL\")\n",
    "a=data1[0]\n",
    "b=data2[0]\n",
    "c=data3[0]\n",
    "print(a)\n",
    "#print(b)\n",
    "#print(c)\n",
    "data2=pd.read_html(\"https://finance.yahoo.com/quote/MSFT/history?p=MSFT\")\n",
    "data3=pd.read_html(\"https://finance.yahoo.com/quote/XIACF/history?p=XIACF\")\n"
   ]
  },
  {
   "cell_type": "code",
   "execution_count": 151,
   "metadata": {},
   "outputs": [
    {
     "ename": "KeyError",
     "evalue": "'https://finance.yahoo.com/quote/AAPL/history?p=AAPL'",
     "output_type": "error",
     "traceback": [
      "\u001b[1;31m---------------------------------------------------------------------------\u001b[0m",
      "\u001b[1;31mKeyError\u001b[0m                                  Traceback (most recent call last)",
      "\u001b[1;32m<ipython-input-151-9acedecb6917>\u001b[0m in \u001b[0;36m<module>\u001b[1;34m\u001b[0m\n\u001b[0;32m      5\u001b[0m \u001b[1;31m#Next, we calculate the percentage change in stock prices of companies everyday\u001b[0m\u001b[1;33m\u001b[0m\u001b[1;33m\u001b[0m\u001b[1;33m\u001b[0m\u001b[0m\n\u001b[0;32m      6\u001b[0m \u001b[1;31m# Log of percentage change\u001b[0m\u001b[1;33m\u001b[0m\u001b[1;33m\u001b[0m\u001b[1;33m\u001b[0m\u001b[0m\n\u001b[1;32m----> 7\u001b[1;33m \u001b[0mapple\u001b[0m \u001b[1;33m=\u001b[0m \u001b[0mtest1\u001b[0m\u001b[1;33m[\u001b[0m\u001b[1;34m'https://finance.yahoo.com/quote/AAPL/history?p=AAPL'\u001b[0m\u001b[1;33m]\u001b[0m\u001b[1;33m.\u001b[0m\u001b[0mpct_change\u001b[0m\u001b[1;33m(\u001b[0m\u001b[1;33m)\u001b[0m\u001b[1;33m.\u001b[0m\u001b[0mapply\u001b[0m\u001b[1;33m(\u001b[0m\u001b[1;32mlambda\u001b[0m \u001b[0mx\u001b[0m\u001b[1;33m:\u001b[0m \u001b[0mnp\u001b[0m\u001b[1;33m.\u001b[0m\u001b[0mlog\u001b[0m\u001b[1;33m(\u001b[0m\u001b[1;36m1\u001b[0m\u001b[1;33m+\u001b[0m\u001b[0mx\u001b[0m\u001b[1;33m)\u001b[0m\u001b[1;33m)\u001b[0m\u001b[1;33m\u001b[0m\u001b[1;33m\u001b[0m\u001b[0m\n\u001b[0m\u001b[0;32m      8\u001b[0m \u001b[0mapple\u001b[0m\u001b[1;33m.\u001b[0m\u001b[0mhead\u001b[0m\u001b[1;33m(\u001b[0m\u001b[1;33m)\u001b[0m\u001b[1;33m\u001b[0m\u001b[1;33m\u001b[0m\u001b[0m\n",
      "\u001b[1;32m~\\anaconda3\\lib\\site-packages\\pandas\\core\\series.py\u001b[0m in \u001b[0;36m__getitem__\u001b[1;34m(self, key)\u001b[0m\n\u001b[0;32m    880\u001b[0m \u001b[1;33m\u001b[0m\u001b[0m\n\u001b[0;32m    881\u001b[0m         \u001b[1;32melif\u001b[0m \u001b[0mkey_is_scalar\u001b[0m\u001b[1;33m:\u001b[0m\u001b[1;33m\u001b[0m\u001b[1;33m\u001b[0m\u001b[0m\n\u001b[1;32m--> 882\u001b[1;33m             \u001b[1;32mreturn\u001b[0m \u001b[0mself\u001b[0m\u001b[1;33m.\u001b[0m\u001b[0m_get_value\u001b[0m\u001b[1;33m(\u001b[0m\u001b[0mkey\u001b[0m\u001b[1;33m)\u001b[0m\u001b[1;33m\u001b[0m\u001b[1;33m\u001b[0m\u001b[0m\n\u001b[0m\u001b[0;32m    883\u001b[0m \u001b[1;33m\u001b[0m\u001b[0m\n\u001b[0;32m    884\u001b[0m         \u001b[1;32mif\u001b[0m \u001b[0mis_hashable\u001b[0m\u001b[1;33m(\u001b[0m\u001b[0mkey\u001b[0m\u001b[1;33m)\u001b[0m\u001b[1;33m:\u001b[0m\u001b[1;33m\u001b[0m\u001b[1;33m\u001b[0m\u001b[0m\n",
      "\u001b[1;32m~\\anaconda3\\lib\\site-packages\\pandas\\core\\series.py\u001b[0m in \u001b[0;36m_get_value\u001b[1;34m(self, label, takeable)\u001b[0m\n\u001b[0;32m    987\u001b[0m \u001b[1;33m\u001b[0m\u001b[0m\n\u001b[0;32m    988\u001b[0m         \u001b[1;31m# Similar to Index.get_value, but we do not fall back to positional\u001b[0m\u001b[1;33m\u001b[0m\u001b[1;33m\u001b[0m\u001b[1;33m\u001b[0m\u001b[0m\n\u001b[1;32m--> 989\u001b[1;33m         \u001b[0mloc\u001b[0m \u001b[1;33m=\u001b[0m \u001b[0mself\u001b[0m\u001b[1;33m.\u001b[0m\u001b[0mindex\u001b[0m\u001b[1;33m.\u001b[0m\u001b[0mget_loc\u001b[0m\u001b[1;33m(\u001b[0m\u001b[0mlabel\u001b[0m\u001b[1;33m)\u001b[0m\u001b[1;33m\u001b[0m\u001b[1;33m\u001b[0m\u001b[0m\n\u001b[0m\u001b[0;32m    990\u001b[0m         \u001b[1;32mreturn\u001b[0m \u001b[0mself\u001b[0m\u001b[1;33m.\u001b[0m\u001b[0mindex\u001b[0m\u001b[1;33m.\u001b[0m\u001b[0m_get_values_for_loc\u001b[0m\u001b[1;33m(\u001b[0m\u001b[0mself\u001b[0m\u001b[1;33m,\u001b[0m \u001b[0mloc\u001b[0m\u001b[1;33m,\u001b[0m \u001b[0mlabel\u001b[0m\u001b[1;33m)\u001b[0m\u001b[1;33m\u001b[0m\u001b[1;33m\u001b[0m\u001b[0m\n\u001b[0;32m    991\u001b[0m \u001b[1;33m\u001b[0m\u001b[0m\n",
      "\u001b[1;32m~\\anaconda3\\lib\\site-packages\\pandas\\core\\indexes\\range.py\u001b[0m in \u001b[0;36mget_loc\u001b[1;34m(self, key, method, tolerance)\u001b[0m\n\u001b[0;32m    356\u001b[0m                 \u001b[1;32mexcept\u001b[0m \u001b[0mValueError\u001b[0m \u001b[1;32mas\u001b[0m \u001b[0merr\u001b[0m\u001b[1;33m:\u001b[0m\u001b[1;33m\u001b[0m\u001b[1;33m\u001b[0m\u001b[0m\n\u001b[0;32m    357\u001b[0m                     \u001b[1;32mraise\u001b[0m \u001b[0mKeyError\u001b[0m\u001b[1;33m(\u001b[0m\u001b[0mkey\u001b[0m\u001b[1;33m)\u001b[0m \u001b[1;32mfrom\u001b[0m \u001b[0merr\u001b[0m\u001b[1;33m\u001b[0m\u001b[1;33m\u001b[0m\u001b[0m\n\u001b[1;32m--> 358\u001b[1;33m             \u001b[1;32mraise\u001b[0m \u001b[0mKeyError\u001b[0m\u001b[1;33m(\u001b[0m\u001b[0mkey\u001b[0m\u001b[1;33m)\u001b[0m\u001b[1;33m\u001b[0m\u001b[1;33m\u001b[0m\u001b[0m\n\u001b[0m\u001b[0;32m    359\u001b[0m         \u001b[1;32mreturn\u001b[0m \u001b[0msuper\u001b[0m\u001b[1;33m(\u001b[0m\u001b[1;33m)\u001b[0m\u001b[1;33m.\u001b[0m\u001b[0mget_loc\u001b[0m\u001b[1;33m(\u001b[0m\u001b[0mkey\u001b[0m\u001b[1;33m,\u001b[0m \u001b[0mmethod\u001b[0m\u001b[1;33m=\u001b[0m\u001b[0mmethod\u001b[0m\u001b[1;33m,\u001b[0m \u001b[0mtolerance\u001b[0m\u001b[1;33m=\u001b[0m\u001b[0mtolerance\u001b[0m\u001b[1;33m)\u001b[0m\u001b[1;33m\u001b[0m\u001b[1;33m\u001b[0m\u001b[0m\n\u001b[0;32m    360\u001b[0m \u001b[1;33m\u001b[0m\u001b[0m\n",
      "\u001b[1;31mKeyError\u001b[0m: 'https://finance.yahoo.com/quote/AAPL/history?p=AAPL'"
     ]
    }
   ],
   "source": [
    "test1 = a[\"Adj Close**\"]#there are a lot of different columns for different prices throughout the day, but we will only focus on the ‘Adj Close’ column. This colum gives us the closing price of company’s stock on the given day.\n",
    "#test2 = b[\"Adj Close**\"]\n",
    "#test3 = c[\"Adj Close**\"]\n",
    "test1.head()# change 1,2,3 for different results\n",
    "#Next, we calculate the percentage change in stock prices of companies everyday\n",
    "# Log of percentage change\n",
    "apple = test1[].pct_change().apply(lambda x: np.log(1+x))\n",
    "apple.head()"
   ]
  },
  {
   "cell_type": "code",
   "execution_count": 152,
   "metadata": {},
   "outputs": [
    {
     "data": {
      "text/plain": [
       "\"import csv\\nfrom urllib.request import urlopen\\nfrom bs4 import BeautifulSoup\\n\\n# set the url..\\nurl = 'https://finance.yahoo.com/quote/AAPL/history?p=AAPL.html'\\n\\n# Open the url and parse the html\\nhtml = urlopen(url)\\nsoup = BeautifulSoup(html, 'html.parser')\\n\\n# extract the first table\\ntable = soup.find_all('table')[0]\\nrows = table.find_all('tr')\\n\\n# write the content to the file\\nFile = open('my_html_data_to_csv.csv', 'wt+')\\nData = csv.writer(File)\\ntry:\\n    for row in rows:\\n        FilteredRow = []\\n    for cell in row.find_all(['td', 'th']):\\n        FilteredRow.append(cell.get_text())\\n        Data.writerow(FilteredRow)\\nfinally:\\n      File.close()\""
      ]
     },
     "execution_count": 152,
     "metadata": {},
     "output_type": "execute_result"
    }
   ],
   "source": [
    "#I tried convert html to ccv but I couldn't\n",
    "'''import csv\n",
    "from urllib.request import urlopen\n",
    "from bs4 import BeautifulSoup\n",
    "\n",
    "# set the url..\n",
    "url = 'https://finance.yahoo.com/quote/AAPL/history?p=AAPL.html'\n",
    "\n",
    "# Open the url and parse the html\n",
    "html = urlopen(url)\n",
    "soup = BeautifulSoup(html, 'html.parser')\n",
    "\n",
    "# extract the first table\n",
    "table = soup.find_all('table')[0]\n",
    "rows = table.find_all('tr')\n",
    "\n",
    "# write the content to the file\n",
    "File = open('my_html_data_to_csv.csv', 'wt+')\n",
    "Data = csv.writer(File)\n",
    "Data.writerow(('Date','Open','High','Low','Close*','Adj Close**','Volume'))\n",
    "try:\n",
    "    for row in rows:\n",
    "        FilteredRow = []\n",
    "    for cell in row.find_all(['td', 'th']):\n",
    "        FilteredRow.append(cell.get_text())\n",
    "        Data.writerow(FilteredRow)\n",
    "finally:\n",
    "      File.close()'''"
   ]
  },
  {
   "cell_type": "code",
   "execution_count": null,
   "metadata": {},
   "outputs": [],
   "source": []
  }
 ],
 "metadata": {
  "kernelspec": {
   "display_name": "Python 3",
   "language": "python",
   "name": "python3"
  },
  "language_info": {
   "codemirror_mode": {
    "name": "ipython",
    "version": 3
   },
   "file_extension": ".py",
   "mimetype": "text/x-python",
   "name": "python",
   "nbconvert_exporter": "python",
   "pygments_lexer": "ipython3",
   "version": "3.8.5"
  }
 },
 "nbformat": 4,
 "nbformat_minor": 4
}
